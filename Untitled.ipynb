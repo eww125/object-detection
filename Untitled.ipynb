{
 "cells": [
  {
   "cell_type": "code",
   "execution_count": null,
   "metadata": {},
   "outputs": [],
   "source": [
    "#! cd /Users/evanwappel/.virtualenv/lib/python3.8/site-packages/tensorflow\n",
    "#! git clone https://github.com/tensorflow/models.git"
   ]
  },
  {
   "cell_type": "code",
   "execution_count": 6,
   "metadata": {},
   "outputs": [
    {
     "name": "stdout",
     "output_type": "stream",
     "text": [
      "/Users/evanwappel/.virtualenv/lib/python3.8/site-packages/tensorflow/models/research\n",
      "/Users/evanwappel/.virtualenv/lib/python3.8/site-packages/tensorflow/models/research\n"
     ]
    }
   ],
   "source": [
    "%cd /Users/evanwappel/.virtualenv/lib/python3.8/site-packages/tensorflow/models/research/\n",
    "! pwd"
   ]
  },
  {
   "cell_type": "code",
   "execution_count": 7,
   "metadata": {},
   "outputs": [
    {
     "name": "stdout",
     "output_type": "stream",
     "text": [
      "object_detection/protos/input_reader.proto:5:1: warning: Import object_detection/protos/image_resizer.proto is unused.\n"
     ]
    }
   ],
   "source": [
    "! protoc object_detection/protos/*.proto --python_out=."
   ]
  },
  {
   "cell_type": "code",
   "execution_count": 8,
   "metadata": {},
   "outputs": [],
   "source": [
    "! export PYTHONPATH=$PYTHONPATH:`pwd`:`pwd`/slim"
   ]
  },
  {
   "cell_type": "code",
   "execution_count": 9,
   "metadata": {},
   "outputs": [
    {
     "name": "stdout",
     "output_type": "stream",
     "text": [
      "Traceback (most recent call last):\n",
      "  File \"object_detection/builders/model_builder_test.py\", line 21, in <module>\n",
      "    from object_detection.builders import model_builder\n",
      "  File \"/Users/evanwappel/.virtualenv/lib/python3.8/site-packages/tensorflow/models/research/object_detection/builders/model_builder.py\", line 63, in <module>\n",
      "    from object_detection.models import ssd_efficientnet_bifpn_feature_extractor as ssd_efficientnet_bifpn\n",
      "  File \"/Users/evanwappel/.virtualenv/lib/python3.8/site-packages/tensorflow/models/research/object_detection/models/ssd_efficientnet_bifpn_feature_extractor.py\", line 33, in <module>\n",
      "    from official.vision.image_classification.efficientnet import efficientnet_model\n",
      "ModuleNotFoundError: No module named 'official'\n"
     ]
    }
   ],
   "source": [
    "! python object_detection/builders/model_builder_test.py"
   ]
  },
  {
   "cell_type": "code",
   "execution_count": 11,
   "metadata": {},
   "outputs": [],
   "source": [
    "!cd ~/object_detection/training"
   ]
  },
  {
   "cell_type": "code",
   "execution_count": null,
   "metadata": {},
   "outputs": [],
   "source": []
  }
 ],
 "metadata": {
  "kernelspec": {
   "display_name": "Python 3.8.2 64-bit ('.virtualenv': venv)",
   "language": "python",
   "name": "python38264bitvirtualenvvenv54f34267c9ca452b8fe5f07e0113e491"
  },
  "language_info": {
   "codemirror_mode": {
    "name": "ipython",
    "version": 3
   },
   "file_extension": ".py",
   "mimetype": "text/x-python",
   "name": "python",
   "nbconvert_exporter": "python",
   "pygments_lexer": "ipython3",
   "version": "3.8.3"
  }
 },
 "nbformat": 4,
 "nbformat_minor": 4
}
